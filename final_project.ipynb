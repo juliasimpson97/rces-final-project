{
 "cells": [
  {
   "cell_type": "markdown",
   "id": "87eb3cda-b21d-4baf-82a4-5866f068d8fc",
   "metadata": {},
   "source": [
    "# Final Project for Research Computing in Earth Science\n",
    "## *Investigating Ocean Acidification in the Arctic* "
   ]
  },
  {
   "cell_type": "code",
   "execution_count": 3,
   "id": "f38152d9-4450-4520-b4b4-443bbbc1f7fc",
   "metadata": {},
   "outputs": [],
   "source": [
    "import xarray as xr\n",
    "import numpy as np\n",
    "import pandas as pd\n",
    "import cartopy\n",
    "import cartopy.crs as ccrs\n",
    "import cartopy.feature as cfeature\n",
    "import pooch\n",
    "import matplotlib\n",
    "from matplotlib import pyplot as plt\n",
    "%config InlineBackend.figure_format = 'retina'"
   ]
  },
  {
   "cell_type": "markdown",
   "id": "94562dbb-89ed-4373-b9de-5be8a2263ec6",
   "metadata": {},
   "source": [
    "# CESM Emission Scenarios"
   ]
  },
  {
   "cell_type": "markdown",
   "id": "5903ddc8-8adf-4850-b366-68b0ee2a1a43",
   "metadata": {},
   "source": [
    "[Index of /data/oceans/ncei/ocads/data/0259391/nc/ESMs/CESM2]('https://www.ncei.noaa.gov/data/oceans/ncei/ocads/data/0259391/nc/ESMs/CESM2/')"
   ]
  },
  {
   "cell_type": "raw",
   "id": "55865011-2dab-4e91-95f6-220596713733",
   "metadata": {},
   "source": [
    "Looks great! Let me know if you need any more help with this stage. In your loop, I would change 'data' to 'cesm', and in the second loop 'cesm' to something else, so that cesm is your dictionary variable in the end, which might make things easier later. I think I would also move those latitude and longitudes from data variables into coordinates with set_coords(). I think."
   ]
  },
  {
   "cell_type": "code",
   "execution_count": 5,
   "id": "1dc609fa-8dfe-47d8-845d-c15a9eb342e2",
   "metadata": {},
   "outputs": [],
   "source": [
    "# structure : {base_url}{variables}{scenarios}\n",
    "\n",
    "cesm = {}\n",
    "cesm_base_url = 'https://www.ncei.noaa.gov/data/oceans/ncei/ocads/data/0259391/nc/ESMs/CESM2/CESM2_{}_{}.nc#mode=bytes'\n",
    "scenarios = ['historical','ssp126','ssp245','ssp370','ssp585']\n",
    "variables = ['Temperature','Salinity','pHT','pCO2']\n",
    "\n",
    "for scenario in scenarios:\n",
    "    cesm_url_list = []\n",
    "    for variable in variables:\n",
    "        cesm_url_list.append(cesm_base_url.format(variable,scenario)) \n",
    "    \n",
    "    data = []\n",
    "    for url in cesm_url_list:\n",
    "        data.append(xr.open_dataset(url))\n",
    "        \n",
    "    cesm[scenario] = xr.merge(data)   "
   ]
  },
  {
   "cell_type": "code",
   "execution_count": 6,
   "id": "505c9d9f-068b-41ef-9691-3dbee3128735",
   "metadata": {},
   "outputs": [
    {
     "data": {
      "text/html": [
       "<div><svg style=\"position: absolute; width: 0; height: 0; overflow: hidden\">\n",
       "<defs>\n",
       "<symbol id=\"icon-database\" viewBox=\"0 0 32 32\">\n",
       "<path d=\"M16 0c-8.837 0-16 2.239-16 5v4c0 2.761 7.163 5 16 5s16-2.239 16-5v-4c0-2.761-7.163-5-16-5z\"></path>\n",
       "<path d=\"M16 17c-8.837 0-16-2.239-16-5v6c0 2.761 7.163 5 16 5s16-2.239 16-5v-6c0 2.761-7.163 5-16 5z\"></path>\n",
       "<path d=\"M16 26c-8.837 0-16-2.239-16-5v6c0 2.761 7.163 5 16 5s16-2.239 16-5v-6c0 2.761-7.163 5-16 5z\"></path>\n",
       "</symbol>\n",
       "<symbol id=\"icon-file-text2\" viewBox=\"0 0 32 32\">\n",
       "<path d=\"M28.681 7.159c-0.694-0.947-1.662-2.053-2.724-3.116s-2.169-2.030-3.116-2.724c-1.612-1.182-2.393-1.319-2.841-1.319h-15.5c-1.378 0-2.5 1.121-2.5 2.5v27c0 1.378 1.122 2.5 2.5 2.5h23c1.378 0 2.5-1.122 2.5-2.5v-19.5c0-0.448-0.137-1.23-1.319-2.841zM24.543 5.457c0.959 0.959 1.712 1.825 2.268 2.543h-4.811v-4.811c0.718 0.556 1.584 1.309 2.543 2.268zM28 29.5c0 0.271-0.229 0.5-0.5 0.5h-23c-0.271 0-0.5-0.229-0.5-0.5v-27c0-0.271 0.229-0.5 0.5-0.5 0 0 15.499-0 15.5 0v7c0 0.552 0.448 1 1 1h7v19.5z\"></path>\n",
       "<path d=\"M23 26h-14c-0.552 0-1-0.448-1-1s0.448-1 1-1h14c0.552 0 1 0.448 1 1s-0.448 1-1 1z\"></path>\n",
       "<path d=\"M23 22h-14c-0.552 0-1-0.448-1-1s0.448-1 1-1h14c0.552 0 1 0.448 1 1s-0.448 1-1 1z\"></path>\n",
       "<path d=\"M23 18h-14c-0.552 0-1-0.448-1-1s0.448-1 1-1h14c0.552 0 1 0.448 1 1s-0.448 1-1 1z\"></path>\n",
       "</symbol>\n",
       "</defs>\n",
       "</svg>\n",
       "<style>/* CSS stylesheet for displaying xarray objects in jupyterlab.\n",
       " *\n",
       " */\n",
       "\n",
       ":root {\n",
       "  --xr-font-color0: var(--jp-content-font-color0, rgba(0, 0, 0, 1));\n",
       "  --xr-font-color2: var(--jp-content-font-color2, rgba(0, 0, 0, 0.54));\n",
       "  --xr-font-color3: var(--jp-content-font-color3, rgba(0, 0, 0, 0.38));\n",
       "  --xr-border-color: var(--jp-border-color2, #e0e0e0);\n",
       "  --xr-disabled-color: var(--jp-layout-color3, #bdbdbd);\n",
       "  --xr-background-color: var(--jp-layout-color0, white);\n",
       "  --xr-background-color-row-even: var(--jp-layout-color1, white);\n",
       "  --xr-background-color-row-odd: var(--jp-layout-color2, #eeeeee);\n",
       "}\n",
       "\n",
       "html[theme=dark],\n",
       "body[data-theme=dark],\n",
       "body.vscode-dark {\n",
       "  --xr-font-color0: rgba(255, 255, 255, 1);\n",
       "  --xr-font-color2: rgba(255, 255, 255, 0.54);\n",
       "  --xr-font-color3: rgba(255, 255, 255, 0.38);\n",
       "  --xr-border-color: #1F1F1F;\n",
       "  --xr-disabled-color: #515151;\n",
       "  --xr-background-color: #111111;\n",
       "  --xr-background-color-row-even: #111111;\n",
       "  --xr-background-color-row-odd: #313131;\n",
       "}\n",
       "\n",
       ".xr-wrap {\n",
       "  display: block !important;\n",
       "  min-width: 300px;\n",
       "  max-width: 700px;\n",
       "}\n",
       "\n",
       ".xr-text-repr-fallback {\n",
       "  /* fallback to plain text repr when CSS is not injected (untrusted notebook) */\n",
       "  display: none;\n",
       "}\n",
       "\n",
       ".xr-header {\n",
       "  padding-top: 6px;\n",
       "  padding-bottom: 6px;\n",
       "  margin-bottom: 4px;\n",
       "  border-bottom: solid 1px var(--xr-border-color);\n",
       "}\n",
       "\n",
       ".xr-header > div,\n",
       ".xr-header > ul {\n",
       "  display: inline;\n",
       "  margin-top: 0;\n",
       "  margin-bottom: 0;\n",
       "}\n",
       "\n",
       ".xr-obj-type,\n",
       ".xr-array-name {\n",
       "  margin-left: 2px;\n",
       "  margin-right: 10px;\n",
       "}\n",
       "\n",
       ".xr-obj-type {\n",
       "  color: var(--xr-font-color2);\n",
       "}\n",
       "\n",
       ".xr-sections {\n",
       "  padding-left: 0 !important;\n",
       "  display: grid;\n",
       "  grid-template-columns: 150px auto auto 1fr 20px 20px;\n",
       "}\n",
       "\n",
       ".xr-section-item {\n",
       "  display: contents;\n",
       "}\n",
       "\n",
       ".xr-section-item input {\n",
       "  display: none;\n",
       "}\n",
       "\n",
       ".xr-section-item input + label {\n",
       "  color: var(--xr-disabled-color);\n",
       "}\n",
       "\n",
       ".xr-section-item input:enabled + label {\n",
       "  cursor: pointer;\n",
       "  color: var(--xr-font-color2);\n",
       "}\n",
       "\n",
       ".xr-section-item input:enabled + label:hover {\n",
       "  color: var(--xr-font-color0);\n",
       "}\n",
       "\n",
       ".xr-section-summary {\n",
       "  grid-column: 1;\n",
       "  color: var(--xr-font-color2);\n",
       "  font-weight: 500;\n",
       "}\n",
       "\n",
       ".xr-section-summary > span {\n",
       "  display: inline-block;\n",
       "  padding-left: 0.5em;\n",
       "}\n",
       "\n",
       ".xr-section-summary-in:disabled + label {\n",
       "  color: var(--xr-font-color2);\n",
       "}\n",
       "\n",
       ".xr-section-summary-in + label:before {\n",
       "  display: inline-block;\n",
       "  content: '►';\n",
       "  font-size: 11px;\n",
       "  width: 15px;\n",
       "  text-align: center;\n",
       "}\n",
       "\n",
       ".xr-section-summary-in:disabled + label:before {\n",
       "  color: var(--xr-disabled-color);\n",
       "}\n",
       "\n",
       ".xr-section-summary-in:checked + label:before {\n",
       "  content: '▼';\n",
       "}\n",
       "\n",
       ".xr-section-summary-in:checked + label > span {\n",
       "  display: none;\n",
       "}\n",
       "\n",
       ".xr-section-summary,\n",
       ".xr-section-inline-details {\n",
       "  padding-top: 4px;\n",
       "  padding-bottom: 4px;\n",
       "}\n",
       "\n",
       ".xr-section-inline-details {\n",
       "  grid-column: 2 / -1;\n",
       "}\n",
       "\n",
       ".xr-section-details {\n",
       "  display: none;\n",
       "  grid-column: 1 / -1;\n",
       "  margin-bottom: 5px;\n",
       "}\n",
       "\n",
       ".xr-section-summary-in:checked ~ .xr-section-details {\n",
       "  display: contents;\n",
       "}\n",
       "\n",
       ".xr-array-wrap {\n",
       "  grid-column: 1 / -1;\n",
       "  display: grid;\n",
       "  grid-template-columns: 20px auto;\n",
       "}\n",
       "\n",
       ".xr-array-wrap > label {\n",
       "  grid-column: 1;\n",
       "  vertical-align: top;\n",
       "}\n",
       "\n",
       ".xr-preview {\n",
       "  color: var(--xr-font-color3);\n",
       "}\n",
       "\n",
       ".xr-array-preview,\n",
       ".xr-array-data {\n",
       "  padding: 0 5px !important;\n",
       "  grid-column: 2;\n",
       "}\n",
       "\n",
       ".xr-array-data,\n",
       ".xr-array-in:checked ~ .xr-array-preview {\n",
       "  display: none;\n",
       "}\n",
       "\n",
       ".xr-array-in:checked ~ .xr-array-data,\n",
       ".xr-array-preview {\n",
       "  display: inline-block;\n",
       "}\n",
       "\n",
       ".xr-dim-list {\n",
       "  display: inline-block !important;\n",
       "  list-style: none;\n",
       "  padding: 0 !important;\n",
       "  margin: 0;\n",
       "}\n",
       "\n",
       ".xr-dim-list li {\n",
       "  display: inline-block;\n",
       "  padding: 0;\n",
       "  margin: 0;\n",
       "}\n",
       "\n",
       ".xr-dim-list:before {\n",
       "  content: '(';\n",
       "}\n",
       "\n",
       ".xr-dim-list:after {\n",
       "  content: ')';\n",
       "}\n",
       "\n",
       ".xr-dim-list li:not(:last-child):after {\n",
       "  content: ',';\n",
       "  padding-right: 5px;\n",
       "}\n",
       "\n",
       ".xr-has-index {\n",
       "  font-weight: bold;\n",
       "}\n",
       "\n",
       ".xr-var-list,\n",
       ".xr-var-item {\n",
       "  display: contents;\n",
       "}\n",
       "\n",
       ".xr-var-item > div,\n",
       ".xr-var-item label,\n",
       ".xr-var-item > .xr-var-name span {\n",
       "  background-color: var(--xr-background-color-row-even);\n",
       "  margin-bottom: 0;\n",
       "}\n",
       "\n",
       ".xr-var-item > .xr-var-name:hover span {\n",
       "  padding-right: 5px;\n",
       "}\n",
       "\n",
       ".xr-var-list > li:nth-child(odd) > div,\n",
       ".xr-var-list > li:nth-child(odd) > label,\n",
       ".xr-var-list > li:nth-child(odd) > .xr-var-name span {\n",
       "  background-color: var(--xr-background-color-row-odd);\n",
       "}\n",
       "\n",
       ".xr-var-name {\n",
       "  grid-column: 1;\n",
       "}\n",
       "\n",
       ".xr-var-dims {\n",
       "  grid-column: 2;\n",
       "}\n",
       "\n",
       ".xr-var-dtype {\n",
       "  grid-column: 3;\n",
       "  text-align: right;\n",
       "  color: var(--xr-font-color2);\n",
       "}\n",
       "\n",
       ".xr-var-preview {\n",
       "  grid-column: 4;\n",
       "}\n",
       "\n",
       ".xr-var-name,\n",
       ".xr-var-dims,\n",
       ".xr-var-dtype,\n",
       ".xr-preview,\n",
       ".xr-attrs dt {\n",
       "  white-space: nowrap;\n",
       "  overflow: hidden;\n",
       "  text-overflow: ellipsis;\n",
       "  padding-right: 10px;\n",
       "}\n",
       "\n",
       ".xr-var-name:hover,\n",
       ".xr-var-dims:hover,\n",
       ".xr-var-dtype:hover,\n",
       ".xr-attrs dt:hover {\n",
       "  overflow: visible;\n",
       "  width: auto;\n",
       "  z-index: 1;\n",
       "}\n",
       "\n",
       ".xr-var-attrs,\n",
       ".xr-var-data {\n",
       "  display: none;\n",
       "  background-color: var(--xr-background-color) !important;\n",
       "  padding-bottom: 5px !important;\n",
       "}\n",
       "\n",
       ".xr-var-attrs-in:checked ~ .xr-var-attrs,\n",
       ".xr-var-data-in:checked ~ .xr-var-data {\n",
       "  display: block;\n",
       "}\n",
       "\n",
       ".xr-var-data > table {\n",
       "  float: right;\n",
       "}\n",
       "\n",
       ".xr-var-name span,\n",
       ".xr-var-data,\n",
       ".xr-attrs {\n",
       "  padding-left: 25px !important;\n",
       "}\n",
       "\n",
       ".xr-attrs,\n",
       ".xr-var-attrs,\n",
       ".xr-var-data {\n",
       "  grid-column: 1 / -1;\n",
       "}\n",
       "\n",
       "dl.xr-attrs {\n",
       "  padding: 0;\n",
       "  margin: 0;\n",
       "  display: grid;\n",
       "  grid-template-columns: 125px auto;\n",
       "}\n",
       "\n",
       ".xr-attrs dt,\n",
       ".xr-attrs dd {\n",
       "  padding: 0;\n",
       "  margin: 0;\n",
       "  float: left;\n",
       "  padding-right: 10px;\n",
       "  width: auto;\n",
       "}\n",
       "\n",
       ".xr-attrs dt {\n",
       "  font-weight: normal;\n",
       "  grid-column: 1;\n",
       "}\n",
       "\n",
       ".xr-attrs dt:hover span {\n",
       "  display: inline-block;\n",
       "  background: var(--xr-background-color);\n",
       "  padding-right: 10px;\n",
       "}\n",
       "\n",
       ".xr-attrs dd {\n",
       "  grid-column: 2;\n",
       "  white-space: pre-wrap;\n",
       "  word-break: break-all;\n",
       "}\n",
       "\n",
       ".xr-icon-database,\n",
       ".xr-icon-file-text2 {\n",
       "  display: inline-block;\n",
       "  vertical-align: middle;\n",
       "  width: 1em;\n",
       "  height: 1.5em !important;\n",
       "  stroke-width: 0;\n",
       "  stroke: currentColor;\n",
       "  fill: currentColor;\n",
       "}\n",
       "</style><pre class='xr-text-repr-fallback'>&lt;xarray.Dataset&gt;\n",
       "Dimensions:      (time: 18, lat: 180, lon: 360)\n",
       "Coordinates:\n",
       "  * time         (time) float64 1.75e+03 1.85e+03 1.86e+03 ... 2e+03 2.01e+03\n",
       "Dimensions without coordinates: lat, lon\n",
       "Data variables:\n",
       "    temperature  (time, lat, lon) float64 ...\n",
       "    longitude    (lat, lon) float64 20.5 21.5 22.5 23.5 ... 377.5 378.5 379.5\n",
       "    latitude     (lat, lon) float64 -89.5 -89.5 -89.5 -89.5 ... 89.5 89.5 89.5\n",
       "    salinity     (time, lat, lon) float64 ...\n",
       "    pHT          (time, lat, lon) float64 ...\n",
       "    pCO2         (time, lat, lon) float64 ...\n",
       "Attributes:\n",
       "    title:               Global surface ocean sea surface temperature (ITS90)...\n",
       "    comment:             This gridded data product contains sea surface tempe...\n",
       "    reference:           Jiang, L-Q., J. Dunne, B. R. Carter, J. Tjiputra,\\n ...\n",
       "    fair_use_statement:  This data product is made freely available\\n        ...\n",
       "    created_by:          Li-Qing Jiang\n",
       "    institution:         (a) Cooperative Institute for Satellite Earth System...\n",
       "    contact:             &lt;Liqing.Jiang@noaa.gov&gt;\n",
       "    creation_date:       August 14, 2022</pre><div class='xr-wrap' style='display:none'><div class='xr-header'><div class='xr-obj-type'>xarray.Dataset</div></div><ul class='xr-sections'><li class='xr-section-item'><input id='section-d94569b5-d705-4b4f-ad51-939bfe14cebf' class='xr-section-summary-in' type='checkbox' disabled ><label for='section-d94569b5-d705-4b4f-ad51-939bfe14cebf' class='xr-section-summary'  title='Expand/collapse section'>Dimensions:</label><div class='xr-section-inline-details'><ul class='xr-dim-list'><li><span class='xr-has-index'>time</span>: 18</li><li><span>lat</span>: 180</li><li><span>lon</span>: 360</li></ul></div><div class='xr-section-details'></div></li><li class='xr-section-item'><input id='section-69b657d3-9447-4219-b2bb-bb905f1d2384' class='xr-section-summary-in' type='checkbox'  checked><label for='section-69b657d3-9447-4219-b2bb-bb905f1d2384' class='xr-section-summary' >Coordinates: <span>(1)</span></label><div class='xr-section-inline-details'></div><div class='xr-section-details'><ul class='xr-var-list'><li class='xr-var-item'><div class='xr-var-name'><span class='xr-has-index'>time</span></div><div class='xr-var-dims'>(time)</div><div class='xr-var-dtype'>float64</div><div class='xr-var-preview xr-preview'>1.75e+03 1.85e+03 ... 2.01e+03</div><input id='attrs-e686a185-bc6b-4c5e-9108-c1d0972036e1' class='xr-var-attrs-in' type='checkbox' ><label for='attrs-e686a185-bc6b-4c5e-9108-c1d0972036e1' title='Show/Hide attributes'><svg class='icon xr-icon-file-text2'><use xlink:href='#icon-file-text2'></use></svg></label><input id='data-de6ed170-7c9e-43c3-9c82-f17acc676f58' class='xr-var-data-in' type='checkbox'><label for='data-de6ed170-7c9e-43c3-9c82-f17acc676f58' title='Show/Hide data repr'><svg class='icon xr-icon-database'><use xlink:href='#icon-database'></use></svg></label><div class='xr-var-attrs'><dl class='xr-attrs'><dt><span>long name :</span></dt><dd>The decade of 1750, and all decades from 1850 to 2010, i.e., 1750, 1850, 1860, 1870, 1880, 1890, 1900, 1910, 1920, 1930, 1940, 1950, 1960, 1970, 1980, 1990, 2000, 2010</dd><dt><span>CF_name :</span></dt><dd>time</dd><dt><span>unit :</span></dt><dd>year</dd></dl></div><div class='xr-var-data'><pre>array([1750., 1850., 1860., 1870., 1880., 1890., 1900., 1910., 1920., 1930.,\n",
       "       1940., 1950., 1960., 1970., 1980., 1990., 2000., 2010.])</pre></div></li></ul></div></li><li class='xr-section-item'><input id='section-1024a183-a4f8-4074-aaa2-281ac2190db3' class='xr-section-summary-in' type='checkbox'  checked><label for='section-1024a183-a4f8-4074-aaa2-281ac2190db3' class='xr-section-summary' >Data variables: <span>(6)</span></label><div class='xr-section-inline-details'></div><div class='xr-section-details'><ul class='xr-var-list'><li class='xr-var-item'><div class='xr-var-name'><span>temperature</span></div><div class='xr-var-dims'>(time, lat, lon)</div><div class='xr-var-dtype'>float64</div><div class='xr-var-preview xr-preview'>...</div><input id='attrs-9bfe004f-d5a2-4097-a3e5-0573edce2b21' class='xr-var-attrs-in' type='checkbox' ><label for='attrs-9bfe004f-d5a2-4097-a3e5-0573edce2b21' title='Show/Hide attributes'><svg class='icon xr-icon-file-text2'><use xlink:href='#icon-file-text2'></use></svg></label><input id='data-32c1da58-9ccd-41d2-803d-8cf6a4037a5e' class='xr-var-data-in' type='checkbox'><label for='data-32c1da58-9ccd-41d2-803d-8cf6a4037a5e' title='Show/Hide data repr'><svg class='icon xr-icon-database'><use xlink:href='#icon-database'></use></svg></label><div class='xr-var-attrs'><dl class='xr-attrs'><dt><span>long name :</span></dt><dd>sea surface temperature (ITS90)</dd><dt><span>CF_name :</span></dt><dd>sea_surface_temperature</dd><dt><span>units :</span></dt><dd>degrees Celsius</dd></dl></div><div class='xr-var-data'><pre>[1166400 values with dtype=float64]</pre></div></li><li class='xr-var-item'><div class='xr-var-name'><span>longitude</span></div><div class='xr-var-dims'>(lat, lon)</div><div class='xr-var-dtype'>float64</div><div class='xr-var-preview xr-preview'>20.5 21.5 22.5 ... 378.5 379.5</div><input id='attrs-fade3423-8ea2-42db-9a6a-897f5427b426' class='xr-var-attrs-in' type='checkbox' ><label for='attrs-fade3423-8ea2-42db-9a6a-897f5427b426' title='Show/Hide attributes'><svg class='icon xr-icon-file-text2'><use xlink:href='#icon-file-text2'></use></svg></label><input id='data-93b74c1d-e7b6-4d7f-bd8b-2f4f3bb162a9' class='xr-var-data-in' type='checkbox'><label for='data-93b74c1d-e7b6-4d7f-bd8b-2f4f3bb162a9' title='Show/Hide data repr'><svg class='icon xr-icon-database'><use xlink:href='#icon-database'></use></svg></label><div class='xr-var-attrs'><dl class='xr-attrs'><dt><span>long name :</span></dt><dd>Longitude on the 1 x 1 degree global grid (20.5 to 379.5 degrees).</dd><dt><span>CF_name :</span></dt><dd>grid_longitude</dd><dt><span>units :</span></dt><dd>decimal degrees</dd></dl></div><div class='xr-var-data'><pre>array([[ 20.5,  21.5,  22.5, ..., 377.5, 378.5, 379.5],\n",
       "       [ 20.5,  21.5,  22.5, ..., 377.5, 378.5, 379.5],\n",
       "       [ 20.5,  21.5,  22.5, ..., 377.5, 378.5, 379.5],\n",
       "       ...,\n",
       "       [ 20.5,  21.5,  22.5, ..., 377.5, 378.5, 379.5],\n",
       "       [ 20.5,  21.5,  22.5, ..., 377.5, 378.5, 379.5],\n",
       "       [ 20.5,  21.5,  22.5, ..., 377.5, 378.5, 379.5]])</pre></div></li><li class='xr-var-item'><div class='xr-var-name'><span>latitude</span></div><div class='xr-var-dims'>(lat, lon)</div><div class='xr-var-dtype'>float64</div><div class='xr-var-preview xr-preview'>-89.5 -89.5 -89.5 ... 89.5 89.5</div><input id='attrs-13e0a32f-2404-490a-a65e-594717cf5678' class='xr-var-attrs-in' type='checkbox' ><label for='attrs-13e0a32f-2404-490a-a65e-594717cf5678' title='Show/Hide attributes'><svg class='icon xr-icon-file-text2'><use xlink:href='#icon-file-text2'></use></svg></label><input id='data-0bcdfdb7-d014-4702-ac80-0ecd0c1c8764' class='xr-var-data-in' type='checkbox'><label for='data-0bcdfdb7-d014-4702-ac80-0ecd0c1c8764' title='Show/Hide data repr'><svg class='icon xr-icon-database'><use xlink:href='#icon-database'></use></svg></label><div class='xr-var-attrs'><dl class='xr-attrs'><dt><span>long name :</span></dt><dd>Latitude on the 1 x 1 degree grid (-89.5 to 89.5 degrees) at this depth level.</dd><dt><span>CF_name :</span></dt><dd>grid_latitude</dd><dt><span>units :</span></dt><dd>decimal degrees</dd></dl></div><div class='xr-var-data'><pre>array([[-89.5, -89.5, -89.5, ..., -89.5, -89.5, -89.5],\n",
       "       [-88.5, -88.5, -88.5, ..., -88.5, -88.5, -88.5],\n",
       "       [-87.5, -87.5, -87.5, ..., -87.5, -87.5, -87.5],\n",
       "       ...,\n",
       "       [ 87.5,  87.5,  87.5, ...,  87.5,  87.5,  87.5],\n",
       "       [ 88.5,  88.5,  88.5, ...,  88.5,  88.5,  88.5],\n",
       "       [ 89.5,  89.5,  89.5, ...,  89.5,  89.5,  89.5]])</pre></div></li><li class='xr-var-item'><div class='xr-var-name'><span>salinity</span></div><div class='xr-var-dims'>(time, lat, lon)</div><div class='xr-var-dtype'>float64</div><div class='xr-var-preview xr-preview'>...</div><input id='attrs-65c5e468-1158-4615-87e3-5c40ad72b254' class='xr-var-attrs-in' type='checkbox' ><label for='attrs-65c5e468-1158-4615-87e3-5c40ad72b254' title='Show/Hide attributes'><svg class='icon xr-icon-file-text2'><use xlink:href='#icon-file-text2'></use></svg></label><input id='data-0efb0f92-db48-44d4-b8e7-41811e72ee6e' class='xr-var-data-in' type='checkbox'><label for='data-0efb0f92-db48-44d4-b8e7-41811e72ee6e' title='Show/Hide data repr'><svg class='icon xr-icon-database'><use xlink:href='#icon-database'></use></svg></label><div class='xr-var-attrs'><dl class='xr-attrs'><dt><span>long name :</span></dt><dd>sea surface salinity (PSS78)</dd><dt><span>CF_name :</span></dt><dd>sea_surface_salinity</dd><dt><span>units :</span></dt><dd>N/A</dd></dl></div><div class='xr-var-data'><pre>[1166400 values with dtype=float64]</pre></div></li><li class='xr-var-item'><div class='xr-var-name'><span>pHT</span></div><div class='xr-var-dims'>(time, lat, lon)</div><div class='xr-var-dtype'>float64</div><div class='xr-var-preview xr-preview'>...</div><input id='attrs-53d32ffb-ea96-4608-8ed0-2d46f8bb3113' class='xr-var-attrs-in' type='checkbox' ><label for='attrs-53d32ffb-ea96-4608-8ed0-2d46f8bb3113' title='Show/Hide attributes'><svg class='icon xr-icon-file-text2'><use xlink:href='#icon-file-text2'></use></svg></label><input id='data-41111688-2d66-4f86-93fd-f04315eeefdb' class='xr-var-data-in' type='checkbox'><label for='data-41111688-2d66-4f86-93fd-f04315eeefdb' title='Show/Hide data repr'><svg class='icon xr-icon-database'><use xlink:href='#icon-database'></use></svg></label><div class='xr-var-attrs'><dl class='xr-attrs'><dt><span>long name :</span></dt><dd>pH on total hydrogen ion scale</dd><dt><span>CF_name :</span></dt><dd>sea_water_ph_reported_on_total_scale</dd><dt><span>units :</span></dt><dd>N/A</dd></dl></div><div class='xr-var-data'><pre>[1166400 values with dtype=float64]</pre></div></li><li class='xr-var-item'><div class='xr-var-name'><span>pCO2</span></div><div class='xr-var-dims'>(time, lat, lon)</div><div class='xr-var-dtype'>float64</div><div class='xr-var-preview xr-preview'>...</div><input id='attrs-511db8f2-26f4-4a31-8be5-79ed6e582e88' class='xr-var-attrs-in' type='checkbox' ><label for='attrs-511db8f2-26f4-4a31-8be5-79ed6e582e88' title='Show/Hide attributes'><svg class='icon xr-icon-file-text2'><use xlink:href='#icon-file-text2'></use></svg></label><input id='data-eefbab75-2f8f-4c45-b300-c004c6135595' class='xr-var-data-in' type='checkbox'><label for='data-eefbab75-2f8f-4c45-b300-c004c6135595' title='Show/Hide data repr'><svg class='icon xr-icon-database'><use xlink:href='#icon-database'></use></svg></label><div class='xr-var-attrs'><dl class='xr-attrs'><dt><span>long name :</span></dt><dd>partial pressure of carbon dioxide</dd><dt><span>CF_name :</span></dt><dd>partial_pressure_of_carbon_dioxide_in_sea_water</dd><dt><span>units :</span></dt><dd>uatm</dd></dl></div><div class='xr-var-data'><pre>[1166400 values with dtype=float64]</pre></div></li></ul></div></li><li class='xr-section-item'><input id='section-0d40c42a-117b-46ad-8315-4e8a667e34c4' class='xr-section-summary-in' type='checkbox'  checked><label for='section-0d40c42a-117b-46ad-8315-4e8a667e34c4' class='xr-section-summary' >Attributes: <span>(8)</span></label><div class='xr-section-inline-details'></div><div class='xr-section-details'><dl class='xr-attrs'><dt><span>title :</span></dt><dd>Global surface ocean sea surface temperature (ITS90) (unit: degrees Celsius) on a 1 x 1 grid\n",
       "               in 1750, and all decades from 1850 to 2010 based on the CMIP6 Earth System Model of CESM2.</dd><dt><span>comment :</span></dt><dd>This gridded data product contains sea surface temperature (ITS90)\n",
       "               on a global [20.5:1:379.5] degree longitude x [-89.5:1:89.75] degree latitude grid\n",
       "               in the global surface ocean in 1750 and all decades from 1850 to 2010, i.e.,\n",
       "               1750, 1850, 1860, 1870, 1880, 1890, 1900, 1910, 1920, 1930, 1940, 1950, 1960, 1970,\n",
       "               1980, 1990, 2000, and 2010.\n",
       "\n",
       "               At each grid point, temperature, salinity, total dissolved inorganic carbon content (DIC),\n",
       "               and total alkalinity content (TA) were estimated based on their temporal changes out of\n",
       "               the sixth phase of the Coupled Model Intercomparison Project (CMIP6) Earth System Model of\n",
       "               CESM2 [Danabasoglu et al., 2020, https://doi.org/10.1029/2019ms001916],\n",
       "               with bias corrections based on three latest observational data products:\n",
       "               (1) the Surface Ocean CO2 Atlas (SOCAT, version 2021, Bakker et al., 2016,\n",
       "               https://doi.org/10.5194/essd-8-383-2016),\n",
       "               (2) the Global Ocean Data Analysis Product Version 2 (GLODAPv2, version 2021, Lauvset et al., 2021,\n",
       "               https://doi.org/10.5194/essd-13-5565-2021), and\n",
       "               (3) the Coastal Ocean Data Analysis Product in North America (CODAP-NA, version 2021, Jiang et al., 2021,\n",
       "               https://doi.org/10.5194/essd-13-2777-2021).\n",
       "\n",
       "               The CO2 system calculation was conducted using CO2System.jl (Humphreys et al., 2022)\n",
       "               with the dissociation constants and parameter as recommended by Jiang et al. (2022),\n",
       "               i.e., dissociation constants for carbonic acid of Lueker et al. (2000),\n",
       "               potassium bisulfate (KHSO4–) of Dickson (1990), hydrofluoric acid (HF) of\n",
       "               Perez and Fraga (1987), and the total borate concentration equations of\n",
       "               Lee et al. (2010). The values reported in this NetCDF are the median values\n",
       "               among all 14 ESMs at each of the grid point.</dd><dt><span>reference :</span></dt><dd>Jiang, L-Q., J. Dunne, B. R. Carter, J. Tjiputra,\n",
       "               J. Terhaar, J. D. Sharp, A. Olsen, R. A. Feely, R. Wanninkhof, P. Hogan,\n",
       "               S. Alin, T. Ilyina, N. Lange, S. K. Lauvset, T. Lovato, Julien Palmieri,\n",
       "               Y. Santana-Falcón, J. Schwinger, R. Séférian, G Strand, N. Swart, T. Tanhua,\n",
       "               H. Tsujino, M. Watanabe, A. Yamamoto, T. Ziehn. (2022). Global surface ocean\n",
       "               acidification indicators: past, present, and future. Global Biogeochemical\n",
       "               Cycles, under review.</dd><dt><span>fair_use_statement :</span></dt><dd>This data product is made freely available\n",
       "               to the public and the scientific community. If it is used in scientific\n",
       "               publications, please cite the paper on GBC, so that readers can access all of the\n",
       "               detailed information about this data product. If these data are essential to\n",
       "               the work, or if an important result or conclusion depends on these data,\n",
       "               co-authorship may be appropriate. This should be discussed at an early stage\n",
       "               in the work.</dd><dt><span>created_by :</span></dt><dd>Li-Qing Jiang</dd><dt><span>institution :</span></dt><dd>(a) Cooperative Institute for Satellite Earth System Studies, Earth System\n",
       "               Science Interdisciplinary Center, University of Maryland, College Park, Maryland\n",
       "               20740, United States, and\n",
       "               (b) National Centers for Environmental Information, National Oceanic and\n",
       "               Atmospheric Administration, Silver Spring, Maryland 20910, United States</dd><dt><span>contact :</span></dt><dd>&lt;Liqing.Jiang@noaa.gov&gt;</dd><dt><span>creation_date :</span></dt><dd>August 14, 2022</dd></dl></div></li></ul></div></div>"
      ],
      "text/plain": [
       "<xarray.Dataset>\n",
       "Dimensions:      (time: 18, lat: 180, lon: 360)\n",
       "Coordinates:\n",
       "  * time         (time) float64 1.75e+03 1.85e+03 1.86e+03 ... 2e+03 2.01e+03\n",
       "Dimensions without coordinates: lat, lon\n",
       "Data variables:\n",
       "    temperature  (time, lat, lon) float64 ...\n",
       "    longitude    (lat, lon) float64 20.5 21.5 22.5 23.5 ... 377.5 378.5 379.5\n",
       "    latitude     (lat, lon) float64 -89.5 -89.5 -89.5 -89.5 ... 89.5 89.5 89.5\n",
       "    salinity     (time, lat, lon) float64 ...\n",
       "    pHT          (time, lat, lon) float64 ...\n",
       "    pCO2         (time, lat, lon) float64 ...\n",
       "Attributes:\n",
       "    title:               Global surface ocean sea surface temperature (ITS90)...\n",
       "    comment:             This gridded data product contains sea surface tempe...\n",
       "    reference:           Jiang, L-Q., J. Dunne, B. R. Carter, J. Tjiputra,\\n ...\n",
       "    fair_use_statement:  This data product is made freely available\\n        ...\n",
       "    created_by:          Li-Qing Jiang\n",
       "    institution:         (a) Cooperative Institute for Satellite Earth System...\n",
       "    contact:             <Liqing.Jiang@noaa.gov>\n",
       "    creation_date:       August 14, 2022"
      ]
     },
     "execution_count": 6,
     "metadata": {},
     "output_type": "execute_result"
    }
   ],
   "source": [
    "cesm['historical']"
   ]
  },
  {
   "cell_type": "code",
   "execution_count": null,
   "id": "8583e56f-a9f5-4c76-87a5-7bac39c07bfd",
   "metadata": {},
   "outputs": [],
   "source": [
    " #\n",
    "for j in scenarios:\n",
    "    for i in variables:\n",
    "        \n",
    "cesm = xr.open_mfdataset(cesm_url_list) #,combine='nested',concat_dim='time'"
   ]
  },
  {
   "cell_type": "code",
   "execution_count": null,
   "id": "c1f0e533-864b-43f0-84f8-c782cc5a3db1",
   "metadata": {},
   "outputs": [],
   "source": [
    "xr.open_mfdataset?"
   ]
  },
  {
   "cell_type": "code",
   "execution_count": null,
   "id": "31dc5740-ca33-40b8-ba03-c0872b79c28d",
   "metadata": {},
   "outputs": [],
   "source": [
    "cesm = []\n",
    "for url in cesm_url_list:\n",
    "    cesm.append(xr.open_dataset(url))\n",
    "\n",
    "print(cesm)"
   ]
  },
  {
   "cell_type": "code",
   "execution_count": null,
   "id": "87b4356e-1a42-44f0-8334-46c9bc7c9330",
   "metadata": {},
   "outputs": [],
   "source": [
    "historical_1 = xr.open_dataset('https://www.ncei.noaa.gov/data/oceans/ncei/ocads/data/0259391/nc/ESMs/CESM2/CESM2_Temperature_historical.nc#mode=bytes')"
   ]
  },
  {
   "cell_type": "code",
   "execution_count": null,
   "id": "d370cddc-9beb-48d3-b1e8-3c5868496fae",
   "metadata": {},
   "outputs": [],
   "source": [
    "print(historical_1)"
   ]
  },
  {
   "cell_type": "code",
   "execution_count": null,
   "id": "5d95da22-3b3f-456e-80da-3afab185dc46",
   "metadata": {},
   "outputs": [],
   "source": [
    "emission_1 = xr.open_dataset('https://www.ncei.noaa.gov/data/oceans/ncei/ocads/data/0259391/nc/ESMs/CESM2/CESM2_Temperature_ssp126.nc#mode=bytes')"
   ]
  },
  {
   "cell_type": "code",
   "execution_count": null,
   "id": "4c8abb7e-d3c6-4dac-8ae6-21acce0b9e12",
   "metadata": {},
   "outputs": [],
   "source": [
    "emission_1"
   ]
  },
  {
   "cell_type": "code",
   "execution_count": null,
   "id": "656c955d-737c-4fc6-9711-375518d79134",
   "metadata": {},
   "outputs": [],
   "source": [
    "type(cesm)"
   ]
  },
  {
   "cell_type": "code",
   "execution_count": null,
   "id": "a7fcbd07-723c-4c44-88ca-098a0e7fe67e",
   "metadata": {},
   "outputs": [],
   "source": [
    "print(cesm)"
   ]
  },
  {
   "cell_type": "code",
   "execution_count": null,
   "id": "e7d96437-20f1-4d87-ac68-796b75f82fb1",
   "metadata": {},
   "outputs": [],
   "source": [
    "print(cesm.time)"
   ]
  },
  {
   "cell_type": "code",
   "execution_count": null,
   "id": "4570edcc-f4c9-401a-b6dd-2390989f03ac",
   "metadata": {},
   "outputs": [],
   "source": [
    "# re-chunk or tell xarray how to read "
   ]
  },
  {
   "cell_type": "markdown",
   "id": "78d140ad-6e6d-453b-aa05-a978023d2721",
   "metadata": {},
   "source": [
    "# Sea Ice Extent"
   ]
  },
  {
   "cell_type": "markdown",
   "id": "8a400681-a965-42e2-9a5d-b7774dc74ecc",
   "metadata": {},
   "source": [
    "[Sea Ice Concentration, NOAA/NSIDC Climate Data Record V3, Arctic, 25km, Science Quality, 1978-2019, Monthly DEPRECATED]('https://polarwatch.noaa.gov/erddap/files/nsidcCDRiceSQnhmday/')"
   ]
  },
  {
   "cell_type": "markdown",
   "id": "2aff997e-fd7f-4b71-aed7-78a6d2cae5cd",
   "metadata": {},
   "source": [
    "## Sea Ice Concentration"
   ]
  },
  {
   "cell_type": "code",
   "execution_count": null,
   "id": "e7c61ddf-5435-4489-b637-6df4fdae3a33",
   "metadata": {},
   "outputs": [],
   "source": [
    "ice_base_url = 'https://polarwatch.noaa.gov/erddap/files/nsidcCDRiceSQnhmday/seaice_conc_monthly_nh_{}_{}_v03r01.nc'\n",
    "\n",
    "yearmonthn07 = pd.period_range(start='197811', end='198707', freq='m').strftime('%Y%m').tolist()\n",
    "yearmonthf08 = pd.period_range(start='198708', end='199112', freq='m').strftime('%Y%m').tolist()\n",
    "yearmonthf11 = pd.period_range(start='199201', end='199509', freq='m').strftime('%Y%m').tolist()\n",
    "yearmonthf13 = pd.period_range(start='199510', end='200712', freq='m').strftime('%Y%m').tolist()\n",
    "yearmonthf17 = pd.period_range(start='200801', end='201912', freq='m').strftime('%Y%m').tolist()\n",
    "\n",
    "ice_url_list = []    \n",
    "for j in yearmonthn07:\n",
    "    ice_url_list.append(ice_base_url.format('n07',j)) \n",
    "for j in yearmonthf08:\n",
    "    ice_url_list.append(ice_base_url.format('f08',j))   \n",
    "for j in yearmonthf11:\n",
    "    ice_url_list.append(ice_base_url.format('f11',j))     \n",
    "for j in yearmonthf13:\n",
    "    ice_url_list.append(ice_base_url.format('f13',j)) \n",
    "for j in yearmonthf17:\n",
    "    ice_url_list.append(ice_base_url.format('f17',j)) \n",
    "    \n",
    "#ice_url_list"
   ]
  },
  {
   "cell_type": "code",
   "execution_count": null,
   "id": "b70f8496-a54e-4201-b507-09264137abb4",
   "metadata": {},
   "outputs": [],
   "source": [
    "#url = 'https://polarwatch.noaa.gov/erddap/files/nsidcCDRiceSQsh1day/2017/seaice_conc_daily_sh_f17_20170807_v03r01.nc'\n",
    "fname = pooch.retrieve(ice_url_list,known_hash=None)\n",
    "ds_ice = xr.open_mfdataset(fname) #, drop_variables='melt_onset_day_seaice_conc_cdr'"
   ]
  },
  {
   "cell_type": "code",
   "execution_count": null,
   "id": "97cced11-864d-4563-b45b-b41c55a884b1",
   "metadata": {},
   "outputs": [],
   "source": [
    "ice = xr.open_mfdataset(ice_url_list)"
   ]
  },
  {
   "cell_type": "code",
   "execution_count": null,
   "id": "798eb604-7ad3-4dce-b626-1c1f95ed8b37",
   "metadata": {},
   "outputs": [],
   "source": [
    "test_url = 'https://polarwatch.noaa.gov/erddap/files/nsidcCDRiceSQnhmday/seaice_conc_monthly_nh_n07_197811_v03r01.nc'"
   ]
  },
  {
   "cell_type": "code",
   "execution_count": null,
   "id": "15bdd28a-bd6d-405f-ac9e-d734d9222e6f",
   "metadata": {},
   "outputs": [],
   "source": [
    "test = xr.open_dataset(test_url)"
   ]
  },
  {
   "cell_type": "code",
   "execution_count": null,
   "id": "fbfd740e-4813-46f0-91ef-f465375c2b3b",
   "metadata": {},
   "outputs": [],
   "source": [
    "from erddapy import ERDDAP\n",
    "e = ERDDAP(\n",
    "    server='https://polarwatch.noaa.gov/erddap',\n",
    "    protocol='griddap')"
   ]
  },
  {
   "cell_type": "code",
   "execution_count": null,
   "id": "c4198b3b-a541-40a3-8feb-cbd26a8812d5",
   "metadata": {},
   "outputs": [],
   "source": [
    "# CHANGE TO NORTHERN\n",
    "e.dataset_id = 'nsidcCDRice_nh_grid' # https://polarwatch.noaa.gov/erddap/griddap/nsidcCDRice_nh_grid.html"
   ]
  },
  {
   "cell_type": "code",
   "execution_count": null,
   "id": "74f3b600-4d71-4874-8254-5694c4c513f5",
   "metadata": {},
   "outputs": [],
   "source": [
    "e.griddap_initialize()\n",
    "\n",
    "import json\n",
    "print(f'variables in this dataset:\\n\\n{e.variables}')\n",
    "print(f'\\nconstraints for this dataset:\\n\\n{json.dumps(e.constraints, indent=1)}')"
   ]
  },
  {
   "cell_type": "code",
   "execution_count": null,
   "id": "3360b5f9-290a-46c8-9df4-d84008440f42",
   "metadata": {},
   "outputs": [],
   "source": [
    "ds_ll = e.to_xarray()\n",
    "ds_ll.load()"
   ]
  },
  {
   "cell_type": "code",
   "execution_count": null,
   "id": "9b38e611-8eec-4ee5-9d33-e8ec9f0497e1",
   "metadata": {},
   "outputs": [],
   "source": [
    "e.dataset_id='nsidcG02202v4nh1day' # https://polarwatch.noaa.gov/erddap/griddap/nsidcG02202v4nh1day.html"
   ]
  },
  {
   "cell_type": "code",
   "execution_count": null,
   "id": "93c788f6-924c-4940-bca5-cc136ecc8d7b",
   "metadata": {},
   "outputs": [],
   "source": [
    "e.griddap_initialize()\n",
    "print(f'variables in this dataset:\\n\\n{e.variables}')\n",
    "print(f'\\nconstraints for this dataset:\\n\\n{json.dumps(e.constraints, indent=1)}'\n",
    ")"
   ]
  },
  {
   "cell_type": "code",
   "execution_count": null,
   "id": "df54076f-a8dd-4018-86c0-4d9e0e27b06d",
   "metadata": {},
   "outputs": [],
   "source": [
    "e.variables = ['cdr_seaice_conc'] # this must be a list even if just one element\n",
    "e.constraints['time>='] = '2021-01-01T00:00:00Z'"
   ]
  },
  {
   "cell_type": "code",
   "execution_count": null,
   "id": "9c9bd826-341c-4821-b9b2-05f0ffb06dbf",
   "metadata": {},
   "outputs": [],
   "source": [
    "ds = e.to_xarray()\n",
    "ds"
   ]
  },
  {
   "cell_type": "code",
   "execution_count": null,
   "id": "700e9259-df5e-4286-b202-cfa7ed0080cd",
   "metadata": {},
   "outputs": [],
   "source": [
    "ds_ice = xr.merge([ds, ds_ll])"
   ]
  },
  {
   "cell_type": "code",
   "execution_count": null,
   "id": "a1b9319d-fa17-4ac8-a2d6-703ae3d69df6",
   "metadata": {},
   "outputs": [],
   "source": [
    "ds_ice"
   ]
  },
  {
   "cell_type": "code",
   "execution_count": null,
   "id": "50ab0fba-75f1-41c0-a7b9-b1ca4909d4be",
   "metadata": {},
   "outputs": [],
   "source": [
    "ds_ice.set_coords(['latitude', 'longitude'])"
   ]
  },
  {
   "cell_type": "code",
   "execution_count": null,
   "id": "ad049495-3c3c-46ea-849c-920a736c9583",
   "metadata": {},
   "outputs": [],
   "source": [
    "fig = plt.figure(figsize=(10,7))\n",
    "proj_ant = ccrs.NorthPolarStereo()\n",
    "ax = plt.axes(projection=proj_ant)\n",
    "ax.set_extent([-180, 180, 100, 56], crs=ccrs.PlateCarree())\n",
    "ax.coastlines()\n",
    "ax.gridlines()\n",
    "\n",
    "ice_conc = ds_ice.cdr_seaice_conc[0]\n",
    "ice_conc = ice_conc.where(ice_conc<=1)\n",
    "ice_conc.plot(vmin=0, vmax=1, cbar_kwargs={'shrink': 0.5})"
   ]
  },
  {
   "cell_type": "code",
   "execution_count": null,
   "id": "58204f54-bfae-41ee-b91e-fdd61763304b",
   "metadata": {},
   "outputs": [],
   "source": [
    "fig = plt.figure(figsize=(10,7))\n",
    "proj_ant = ccrs.NorthPolarStereo()\n",
    "ax = plt.axes(projection=proj_ant)\n",
    "ax.set_extent([-180, 180, 100, 56], crs=ccrs.PlateCarree())\n",
    "ax.coastlines()\n",
    "ax.gridlines()\n",
    "\n",
    "ice_conc = ds_ice.cdr_seaice_conc[8] # ds_ice.cdr_seaice_conc[ds_ice.cdr_seaice_conc.time=='2021-08-01']\n",
    "ice_conc = ice_conc.where(ice_conc<=1)\n",
    "ice_conc.plot(vmin=0, vmax=1, cbar_kwargs={'shrink': 0.5})"
   ]
  },
  {
   "cell_type": "code",
   "execution_count": null,
   "id": "32bd6299-f982-4aaf-911e-d0dfae07bd0c",
   "metadata": {},
   "outputs": [],
   "source": [
    "import datetime\n",
    "ice_conc = ds_ice.cdr_seaice_conc.datetime['time'=='2021-08-01']"
   ]
  },
  {
   "cell_type": "markdown",
   "id": "10544766-fe7e-46b1-b372-900b58799734",
   "metadata": {},
   "source": [
    "# will need to calculate sea ice conc ANOMALY for analysis"
   ]
  },
  {
   "cell_type": "code",
   "execution_count": null,
   "id": "01b1f57b-2e35-41b4-ad99-0c2bc4f05517",
   "metadata": {},
   "outputs": [],
   "source": [
    "print(ice_conc)"
   ]
  },
  {
   "cell_type": "code",
   "execution_count": null,
   "id": "96786bc5-9ccd-45f9-b852-d1f2d7199feb",
   "metadata": {},
   "outputs": [],
   "source": [
    "df = pd.DataFrame(ice_conc, columns=['time', 'ygrid','xgrid','cdr_seaice_conc'])\n",
    "df = df.set_index('ISO_TIME')"
   ]
  },
  {
   "cell_type": "code",
   "execution_count": null,
   "id": "98101c88-9aa0-4587-944d-469b5811a2b0",
   "metadata": {},
   "outputs": [],
   "source": [
    "ice_conc.groupby(ice_conc.index.dayofyear).aggregate({'mean',\n",
    "                                                    'std'}).plot(marker='.',xlim=(0,365),title='Climatology of Datapoint Counts',xlabel='Day of Year', ylabel='Datapoint Counts')"
   ]
  },
  {
   "cell_type": "code",
   "execution_count": null,
   "id": "d427b332-aca0-465f-9fe1-9fa8b26e720c",
   "metadata": {},
   "outputs": [],
   "source": [
    "def standardize(x):\n",
    "    return (x - x.mean())\n",
    "\n",
    "fig, ax = plt.subplots(figsize=(10,6))\n",
    "anomaly = daily14.groupby(daily14.index.dayofyear).transform(standardize);\n",
    "anomaly.resample('A').mean().plot(marker='.');\n",
    "ax.set_title('Anomaly of Daily Counts at Annual Resolution'); #will need to change, don't just want datapoint COUNTS, want actual anomaly\n",
    "ax.set_xlabel('Year');\n",
    "ax.set_ylabel('Anomaly');"
   ]
  },
  {
   "cell_type": "code",
   "execution_count": null,
   "id": "77f413e3-a80b-48bc-bbf5-89e9a120154c",
   "metadata": {},
   "outputs": [],
   "source": []
  },
  {
   "cell_type": "code",
   "execution_count": null,
   "id": "0a9f72f3-cd38-4b43-9285-f720dfe3957b",
   "metadata": {},
   "outputs": [],
   "source": [
    "#CHANGE TO NORTHERN\n",
    "e.dataset_id = 'nsidcG02202v4nhmday' # https://polarwatch.noaa.gov/erddap/griddap/nsidcG02202v4nhmday.html"
   ]
  },
  {
   "cell_type": "code",
   "execution_count": null,
   "id": "cb62f0c5-cb7a-41e7-8db1-9822cdb77a96",
   "metadata": {},
   "outputs": [],
   "source": [
    "e.griddap_initialize()\n",
    "print(f'variables in this dataset:\\n\\n{e.variables}')\n",
    "print(f'\\nconstraints for this dataset:\\n\\n{json.dumps(e.constraints, indent=1)}')"
   ]
  },
  {
   "cell_type": "code",
   "execution_count": null,
   "id": "9ab5153a-5d84-4fa8-ad0d-d63288ebdf4f",
   "metadata": {},
   "outputs": [],
   "source": [
    "e.variables = ['cdr_seaice_conc_monthly'] # this must be a list even if just one element\n",
    "e.constraints = None"
   ]
  },
  {
   "cell_type": "code",
   "execution_count": null,
   "id": "9ba4d73f-e3bb-4e2d-922c-50dd21d25cdf",
   "metadata": {},
   "outputs": [],
   "source": [
    "ds = e.to_xarray()\n",
    "ds"
   ]
  },
  {
   "cell_type": "code",
   "execution_count": null,
   "id": "987fb001-f524-448a-a6a0-ae6d473d1a09",
   "metadata": {},
   "outputs": [],
   "source": [
    "ice_monthly = ds.cdr_seaice_conc_monthly.mean(dim=('ygrid', 'xgrid'))\n",
    "ds.cdr_seaice_conc_monthly.mean(dim=('ygrid', 'xgrid')).plot(marker='x');"
   ]
  },
  {
   "cell_type": "code",
   "execution_count": null,
   "id": "d9e58566-bef8-49d0-90ac-a5db7e976682",
   "metadata": {},
   "outputs": [],
   "source": [
    "ice_monthly.where(ice_monthly<0.5).plot(marker='.');"
   ]
  },
  {
   "cell_type": "markdown",
   "id": "04f67a04-1628-4eba-9ab5-9f89c95db3d5",
   "metadata": {},
   "source": [
    "# Data Import and Creation of Datasets"
   ]
  },
  {
   "cell_type": "markdown",
   "id": "96b161c5-3d48-4f7b-9c38-3df38b373dbe",
   "metadata": {},
   "source": [
    "# Characterization Figures"
   ]
  },
  {
   "cell_type": "markdown",
   "id": "0aa40ede-74c9-466c-938c-52db524f0edc",
   "metadata": {},
   "source": [
    "# Analysis Figures"
   ]
  },
  {
   "cell_type": "markdown",
   "id": "7e5e392b-9f8c-4b83-aee7-5fe0cd441af0",
   "metadata": {},
   "source": [
    "# Conclusions"
   ]
  }
 ],
 "metadata": {
  "kernelspec": {
   "display_name": "Python 3 (ipykernel)",
   "language": "python",
   "name": "python3"
  },
  "language_info": {
   "codemirror_mode": {
    "name": "ipython",
    "version": 3
   },
   "file_extension": ".py",
   "mimetype": "text/x-python",
   "name": "python",
   "nbconvert_exporter": "python",
   "pygments_lexer": "ipython3",
   "version": "3.9.13"
  }
 },
 "nbformat": 4,
 "nbformat_minor": 5
}
