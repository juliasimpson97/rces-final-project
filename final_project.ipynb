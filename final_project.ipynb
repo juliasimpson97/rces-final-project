{
 "cells": [
  {
   "cell_type": "markdown",
   "id": "5ab31ba6-fbbf-4911-b02f-9184301c331e",
   "metadata": {},
   "source": [
    "# RCES Final Project"
   ]
  },
  {
   "cell_type": "code",
   "execution_count": 1,
   "id": "2ad188f7-b414-4719-bc7d-9686a397bc89",
   "metadata": {},
   "outputs": [],
   "source": [
    "h = 'hello'"
   ]
  },
  {
   "cell_type": "code",
   "execution_count": null,
   "id": "3bdee1e9-18be-4851-86c4-4eb3b380e0ec",
   "metadata": {},
   "outputs": [],
   "source": []
  }
 ],
 "metadata": {
  "kernelspec": {
   "display_name": "Python 3 (ipykernel)",
   "language": "python",
   "name": "python3"
  },
  "language_info": {
   "codemirror_mode": {
    "name": "ipython",
    "version": 3
   },
   "file_extension": ".py",
   "mimetype": "text/x-python",
   "name": "python",
   "nbconvert_exporter": "python",
   "pygments_lexer": "ipython3",
   "version": "3.9.13"
  }
 },
 "nbformat": 4,
 "nbformat_minor": 5
}
